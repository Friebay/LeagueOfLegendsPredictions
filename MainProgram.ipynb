{
 "cells": [
  {
   "cell_type": "code",
   "execution_count": 37,
   "id": "0cbb6c4f-eeeb-4605-9fcf-d04abcb7bb1b",
   "metadata": {},
   "outputs": [],
   "source": [
    "import requests"
   ]
  },
  {
   "cell_type": "code",
   "execution_count": 38,
   "id": "0f126466-9d91-4bdf-a670-70251d722118",
   "metadata": {},
   "outputs": [],
   "source": [
    "api_key = \"RGAPI-baf2381d-4899-4219-b229-d8f22c1ffd8e\""
   ]
  },
  {
   "cell_type": "code",
   "execution_count": 39,
   "id": "c58380a9-7508-48f1-b68d-bd5e9499ab95",
   "metadata": {},
   "outputs": [],
   "source": [
    "api_AccountURL = \"https://euw1.api.riotgames.com/lol/summoner/v4/summoners/by-name/Friskis1\""
   ]
  },
  {
   "cell_type": "code",
   "execution_count": 40,
   "id": "455f3c19-110d-497a-922d-3018130dc2c3",
   "metadata": {},
   "outputs": [],
   "source": [
    "api_AccountURLandAPI = api_AccountURL + '?api_key=' + api_key"
   ]
  },
  {
   "cell_type": "code",
   "execution_count": 41,
   "id": "28ac1767-d6c2-4175-a517-807a8a3b27aa",
   "metadata": {},
   "outputs": [
    {
     "data": {
      "text/plain": [
       "'https://euw1.api.riotgames.com/lol/summoner/v4/summoners/by-name/Friskis1?api_key=RGAPI-baf2381d-4899-4219-b229-d8f22c1ffd8e'"
      ]
     },
     "execution_count": 41,
     "metadata": {},
     "output_type": "execute_result"
    }
   ],
   "source": [
    "api_AccountURLandAPI"
   ]
  },
  {
   "cell_type": "code",
   "execution_count": 42,
   "id": "8192de47-954c-405b-b33b-0bda3b0438f4",
   "metadata": {},
   "outputs": [
    {
     "data": {
      "text/plain": [
       "{'id': 'tJj6KLiapMSU5ItryzWyIbIRyuNuMwvcHD5E51iLoSda8Db6PdvQZx-BHg',\n",
       " 'accountId': 'kSQrFrJ_5owJ8M2lLn5ox8IvXEWhg3KEaxb8lG-nJepO5ZmXShyntUl7',\n",
       " 'puuid': 'dooNWFlwTU6q794hnSdONn9c6Ooqjb3I1ZQ43gNaL2WboUYU79deWZF4UHpOFOc0M2T2B1QAuXXzuQ',\n",
       " 'name': 'Friskis1',\n",
       " 'profileIconId': 5799,\n",
       " 'revisionDate': 1687374532746,\n",
       " 'summonerLevel': 304}"
      ]
     },
     "execution_count": 42,
     "metadata": {},
     "output_type": "execute_result"
    }
   ],
   "source": [
    "responseAccount = requests.get(api_AccountURLandAPI)\n",
    "player_info = responseAccount.json()\n",
    "player_info"
   ]
  },
  {
   "cell_type": "code",
   "execution_count": 43,
   "id": "d614fb90-e47f-4fde-a9e1-e8e1b32313c6",
   "metadata": {},
   "outputs": [
    {
     "data": {
      "text/plain": [
       "'dooNWFlwTU6q794hnSdONn9c6Ooqjb3I1ZQ43gNaL2WboUYU79deWZF4UHpOFOc0M2T2B1QAuXXzuQ'"
      ]
     },
     "execution_count": 43,
     "metadata": {},
     "output_type": "execute_result"
    }
   ],
   "source": [
    "puuid = player_info['puuid']\n",
    "puuid"
   ]
  },
  {
   "cell_type": "code",
   "execution_count": 44,
   "id": "c634eb1c-0552-4abe-b204-f2c723084dd3",
   "metadata": {},
   "outputs": [
    {
     "data": {
      "text/plain": [
       "'https://europe.api.riotgames.com/lol/match/v5/matches/by-puuid/dooNWFlwTU6q794hnSdONn9c6Ooqjb3I1ZQ43gNaL2WboUYU79deWZF4UHpOFOc0M2T2B1QAuXXzuQ/ids?start=0&count=5'"
      ]
     },
     "execution_count": 44,
     "metadata": {},
     "output_type": "execute_result"
    }
   ],
   "source": [
    "api_MatchHistory = \"https://europe.api.riotgames.com/lol/match/v5/matches/by-puuid/\" + puuid + \"/ids?start=0&count=5\"\n",
    "api_MatchHistory"
   ]
  },
  {
   "cell_type": "code",
   "execution_count": 45,
   "id": "bab32d13-9d78-4eb3-b2ba-7a424fe9e471",
   "metadata": {},
   "outputs": [
    {
     "data": {
      "text/plain": [
       "'https://europe.api.riotgames.com/lol/match/v5/matches/by-puuid/dooNWFlwTU6q794hnSdONn9c6Ooqjb3I1ZQ43gNaL2WboUYU79deWZF4UHpOFOc0M2T2B1QAuXXzuQ/ids?start=0&count=5&api_key=RGAPI-baf2381d-4899-4219-b229-d8f22c1ffd8e'"
      ]
     },
     "execution_count": 45,
     "metadata": {},
     "output_type": "execute_result"
    }
   ],
   "source": [
    "#                    & instead of ?, because there's already a ? in the original\n",
    "api_MatchHistoryAPI = api_MatchHistory + '&api_key=' + api_key \n",
    "api_MatchHistoryAPI"
   ]
  },
  {
   "cell_type": "code",
   "execution_count": 46,
   "id": "0cecffd4-4a88-4a43-ac52-5cd5fd044718",
   "metadata": {},
   "outputs": [
    {
     "data": {
      "text/plain": [
       "['EUW1_6463105760',\n",
       " 'EUW1_6463058427',\n",
       " 'EUW1_6463017654',\n",
       " 'EUW1_6462937763',\n",
       " 'EUW1_6462905444']"
      ]
     },
     "execution_count": 46,
     "metadata": {},
     "output_type": "execute_result"
    }
   ],
   "source": [
    "responseMatchHistory = requests.get(api_MatchHistoryAPI)\n",
    "match_ids = responseMatchHistory.json()\n",
    "\n",
    "match_ids"
   ]
  },
  {
   "cell_type": "code",
   "execution_count": 47,
   "id": "a877d2e6-717b-4581-b298-c3b4375ad9a7",
   "metadata": {},
   "outputs": [
    {
     "data": {
      "text/plain": [
       "'https://europe.api.riotgames.com/lol/match/v5/matches/?api_key=RGAPI-baf2381d-4899-4219-b229-d8f22c1ffd8e'"
      ]
     },
     "execution_count": 47,
     "metadata": {},
     "output_type": "execute_result"
    }
   ],
   "source": [
    "api_Match = \"https://europe.api.riotgames.com/lol/match/v5/matches/\" + match_ids + '?api_key=' + api_key\n",
    "api_Match"
   ]
  },
  {
   "cell_type": "code",
   "execution_count": 49,
   "id": "fc09ca2d-d69e-4cc4-8857-e4eaa4196ced",
   "metadata": {},
   "outputs": [],
   "source": [
    "resp = requests.get(api_Match)\n",
    "match_data = resp.json()"
   ]
  },
  {
   "cell_type": "code",
   "execution_count": null,
   "id": "d014f613-0446-4cb3-bc03-519091b00415",
   "metadata": {},
   "outputs": [],
   "source": []
  }
 ],
 "metadata": {
  "kernelspec": {
   "display_name": "Python 3 (ipykernel)",
   "language": "python",
   "name": "python3"
  },
  "language_info": {
   "codemirror_mode": {
    "name": "ipython",
    "version": 3
   },
   "file_extension": ".py",
   "mimetype": "text/x-python",
   "name": "python",
   "nbconvert_exporter": "python",
   "pygments_lexer": "ipython3",
   "version": "3.8.6"
  }
 },
 "nbformat": 4,
 "nbformat_minor": 5
}
