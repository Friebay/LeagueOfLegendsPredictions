{
 "cells": [
  {
   "cell_type": "code",
   "execution_count": 37,
   "id": "0cbb6c4f-eeeb-4605-9fcf-d04abcb7bb1b",
   "metadata": {},
   "outputs": [],
   "source": [
    "import requests"
   ]
  },
  {
   "cell_type": "code",
   "execution_count": 94,
   "id": "0f126466-9d91-4bdf-a670-70251d722118",
   "metadata": {},
   "outputs": [],
   "source": [
    "api_key = \"RGAPI-baf2381d-4899-4219-b229-d8f22c1ffd8e\"\n",
    "username = \"Friskis1\"\n",
    "MatchNumber = \"5\""
   ]
  },
  {
   "cell_type": "code",
   "execution_count": 88,
   "id": "c58380a9-7508-48f1-b68d-bd5e9499ab95",
   "metadata": {},
   "outputs": [
    {
     "name": "stdout",
     "output_type": "stream",
     "text": [
      "https://euw1.api.riotgames.com/lol/summoner/v4/summoners/by-name/Friskis1\n",
      "https://euw1.api.riotgames.com/lol/summoner/v4/summoners/by-name/Friskis1?api_key=RGAPI-baf2381d-4899-4219-b229-d8f22c1ffd8e\n",
      "['EUW1_6463105760', 'EUW1_6463058427', 'EUW1_6463017654', 'EUW1_6462937763', 'EUW1_6462905444']\n"
     ]
    }
   ],
   "source": [
    "api_AccountURL = \"https://euw1.api.riotgames.com/lol/summoner/v4/summoners/by-name/\" + username\n",
    "print(api_AccountURL)\n",
    "\n",
    "api_AccountURLandAPI = api_AccountURL + '?api_key=' + api_key\n",
    "print(api_AccountURLandAPI)\n",
    "\n",
    "responseAccount = requests.get(api_AccountURLandAPI)\n",
    "player_info = responseAccount.json()\n",
    "# print(player_info)\n",
    "\n",
    "puuid = player_info['puuid']\n",
    "# print(puuid)\n",
    "\n",
    "api_MatchHistory = \"https://europe.api.riotgames.com/lol/match/v5/matches/by-puuid/\" + puuid + \"/ids?start=0&count=\" + MatchNumber\n",
    "# print(api_MatchHistory)\n",
    "\n",
    "api_MatchHistoryAPI = api_MatchHistory + '&api_key=' + api_key \n",
    "# print(api_MatchHistoryAPI)\n",
    "\n",
    "responseMatchHistory = requests.get(api_MatchHistoryAPI)\n",
    "match_ids = responseMatchHistory.json()\n",
    "print(match_ids)"
   ]
  },
  {
   "cell_type": "code",
   "execution_count": 100,
   "id": "49b98ca2-b87f-4b04-bd3f-50188d33c998",
   "metadata": {},
   "outputs": [],
   "source": [
    "def calculate_combined_gold(participants):\n",
    "    total_gold = 0\n",
    "    for participant in participants:\n",
    "        total_gold += participant['goldEarned']\n",
    "    return total_gold"
   ]
  },
  {
   "cell_type": "code",
   "execution_count": 106,
   "id": "0cecffd4-4a88-4a43-ac52-5cd5fd044718",
   "metadata": {},
   "outputs": [
    {
     "name": "stdout",
     "output_type": "stream",
     "text": [
      "Combined gold of the first 5 players: 27627\n",
      "Combined gold of the last 5 players: 16111\n",
      "\n",
      "\n",
      "Combined gold of the first 5 players: 34884\n",
      "Combined gold of the last 5 players: 21367\n",
      "\n",
      "\n",
      "Combined gold of the first 5 players: 57841\n",
      "Combined gold of the last 5 players: 41480\n",
      "\n",
      "\n",
      "Combined gold of the first 5 players: 52777\n",
      "Combined gold of the last 5 players: 65601\n",
      "\n",
      "\n",
      "Combined gold of the first 5 players: 17783\n",
      "Combined gold of the last 5 players: 11968\n",
      "\n",
      "\n"
     ]
    }
   ],
   "source": [
    "for i in range(5):\n",
    "    api_MatchData = \"https://europe.api.riotgames.com/lol/match/v5/matches/\" + match_ids[i] + '?api_key=' + api_key\n",
    "    # print(api_MatchData)\n",
    "\n",
    "    responseMatchData = requests.get(api_MatchData)\n",
    "    match_data = responseMatchData.json()\n",
    "\n",
    "    # Calculate combined gold of the first 5 players\n",
    "    team1_participants = match_data['info']['participants'][:5]\n",
    "    team1_gold = calculate_combined_gold(team1_participants)\n",
    "    print(\"Combined gold of the first 5 players:\", team1_gold)\n",
    "\n",
    "    # Calculate combined gold of the last 5 players\n",
    "    team2_participants = match_data['info']['participants'][-5:]\n",
    "    team2_gold = calculate_combined_gold(team2_participants)\n",
    "    print(\"Combined gold of the last 5 players:\", team2_gold)\n",
    "    \n",
    "    \n",
    "    \n",
    "    print(\"\\n\")\n"
   ]
  },
  {
   "cell_type": "code",
   "execution_count": null,
   "id": "e3c3272e-ceb2-40b0-a8e7-ac4dd9c61c5e",
   "metadata": {},
   "outputs": [],
   "source": []
  }
 ],
 "metadata": {
  "kernelspec": {
   "display_name": "Python 3 (ipykernel)",
   "language": "python",
   "name": "python3"
  },
  "language_info": {
   "codemirror_mode": {
    "name": "ipython",
    "version": 3
   },
   "file_extension": ".py",
   "mimetype": "text/x-python",
   "name": "python",
   "nbconvert_exporter": "python",
   "pygments_lexer": "ipython3",
   "version": "3.8.6"
  }
 },
 "nbformat": 4,
 "nbformat_minor": 5
}
