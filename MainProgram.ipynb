{
 "cells": [
  {
   "cell_type": "code",
   "execution_count": 2,
   "id": "0cbb6c4f-eeeb-4605-9fcf-d04abcb7bb1b",
   "metadata": {},
   "outputs": [],
   "source": [
    "import requests"
   ]
  },
  {
   "cell_type": "code",
   "execution_count": 52,
   "id": "0f126466-9d91-4bdf-a670-70251d722118",
   "metadata": {},
   "outputs": [],
   "source": [
    "api_key = \"x\"\n",
    "username = \"x\"\n",
    "MatchNumber = \"20\""
   ]
  },
  {
   "cell_type": "code",
   "execution_count": 53,
   "id": "c58380a9-7508-48f1-b68d-bd5e9499ab95",
   "metadata": {},
   "outputs": [
    {
     "name": "stdout",
     "output_type": "stream",
     "text": [
      "https://euw1.api.riotgames.com/lol/summoner/v4/summoners/by-name/Friskis1\n",
      "https://euw1.api.riotgames.com/lol/summoner/v4/summoners/by-name/Friskis1?api_key=RGAPI-45aa22fd-1a67-4cdc-bb2b-0bb815ea7d02\n",
      "['EUW1_6465599981', 'EUW1_6465540349', 'EUW1_6465511435', 'EUW1_6465342564', 'EUW1_6465310010', 'EUW1_6464661636', 'EUW1_6464542937', 'EUW1_6464472757', 'EUW1_6464394865', 'EUW1_6464339139', 'EUW1_6463980902', 'EUW1_6463948099', 'EUW1_6463105760', 'EUW1_6463058427', 'EUW1_6463017654', 'EUW1_6462937763', 'EUW1_6462905444', 'EUW1_6462849671', 'EUW1_6462802500', 'EUW1_6462752919']\n"
     ]
    }
   ],
   "source": [
    "api_AccountURL = \"https://euw1.api.riotgames.com/lol/summoner/v4/summoners/by-name/\" + username\n",
    "print(api_AccountURL)\n",
    "\n",
    "api_AccountURLandAPI = api_AccountURL + '?api_key=' + api_key\n",
    "print(api_AccountURLandAPI)\n",
    "\n",
    "responseAccount = requests.get(api_AccountURLandAPI)\n",
    "player_info = responseAccount.json()\n",
    "# print(player_info)\n",
    "\n",
    "puuid = player_info['puuid']\n",
    "# print(puuid)\n",
    "\n",
    "api_MatchHistory = \"https://europe.api.riotgames.com/lol/match/v5/matches/by-puuid/\" + puuid + \"/ids?start=0&count=\" + MatchNumber\n",
    "# print(api_MatchHistory)\n",
    "\n",
    "api_MatchHistoryAPI = api_MatchHistory + '&api_key=' + api_key \n",
    "# print(api_MatchHistoryAPI)\n",
    "\n",
    "responseMatchHistory = requests.get(api_MatchHistoryAPI)\n",
    "match_ids = responseMatchHistory.json()\n",
    "print(match_ids)"
   ]
  },
  {
   "cell_type": "code",
   "execution_count": 54,
   "id": "49b98ca2-b87f-4b04-bd3f-50188d33c998",
   "metadata": {},
   "outputs": [],
   "source": [
    "def calculate_combined_gold(participants):\n",
    "    total_gold = 0\n",
    "    for participant in participants:\n",
    "        total_gold += participant['goldEarned']\n",
    "    return total_gold"
   ]
  },
  {
   "cell_type": "code",
   "execution_count": 5,
   "id": "0cecffd4-4a88-4a43-ac52-5cd5fd044718",
   "metadata": {},
   "outputs": [
    {
     "name": "stdout",
     "output_type": "stream",
     "text": [
      "Combined gold of Blue side players: 60628\n",
      "Combined gold of Red side players: 53596\n",
      "Blue side won: True\n",
      "Combined gold winning team: 60628\n",
      "Combined gold lossing team: 53596\n",
      "Gold difference between winning and lossing: 7032\n",
      "\n",
      "Combined gold of Blue side players: 43490\n",
      "Combined gold of Red side players: 28209\n",
      "Blue side won: True\n",
      "Combined gold winning team: 43490\n",
      "Combined gold lossing team: 28209\n",
      "Gold difference between winning and lossing: 15281\n",
      "\n",
      "Combined gold of Blue side players: 39464\n",
      "Combined gold of Red side players: 49579\n",
      "Blue side won: False\n",
      "Combined gold winning team: 49579\n",
      "Combined gold lossing team: 39464\n",
      "Gold difference between winning and lossing: 10115\n",
      "\n",
      "Combined gold of Blue side players: 48156\n",
      "Combined gold of Red side players: 66406\n",
      "Blue side won: False\n",
      "Combined gold winning team: 66406\n",
      "Combined gold lossing team: 48156\n",
      "Gold difference between winning and lossing: 18250\n",
      "\n",
      "Combined gold of Blue side players: 81028\n",
      "Combined gold of Red side players: 71599\n",
      "Blue side won: True\n",
      "Combined gold winning team: 81028\n",
      "Combined gold lossing team: 71599\n",
      "Gold difference between winning and lossing: 9429\n",
      "\n",
      "Combined gold of Blue side players: 51347\n",
      "Combined gold of Red side players: 60602\n",
      "Blue side won: False\n",
      "Combined gold winning team: 60602\n",
      "Combined gold lossing team: 51347\n",
      "Gold difference between winning and lossing: 9255\n",
      "\n",
      "Combined gold of Blue side players: 69299\n",
      "Combined gold of Red side players: 60076\n",
      "Blue side won: True\n",
      "Combined gold winning team: 69299\n",
      "Combined gold lossing team: 60076\n",
      "Gold difference between winning and lossing: 9223\n",
      "\n",
      "Combined gold of Blue side players: 50099\n",
      "Combined gold of Red side players: 34145\n",
      "Blue side won: True\n",
      "Combined gold winning team: 50099\n",
      "Combined gold lossing team: 34145\n",
      "Gold difference between winning and lossing: 15954\n",
      "\n",
      "Combined gold of Blue side players: 45473\n",
      "Combined gold of Red side players: 57845\n",
      "Blue side won: False\n",
      "Combined gold winning team: 57845\n",
      "Combined gold lossing team: 45473\n",
      "Gold difference between winning and lossing: 12372\n",
      "\n",
      "Combined gold of Blue side players: 69625\n",
      "Combined gold of Red side players: 73122\n",
      "Blue side won: False\n",
      "Combined gold winning team: 73122\n",
      "Combined gold lossing team: 69625\n",
      "Gold difference between winning and lossing: 3497\n",
      "\n",
      "Combined gold of Blue side players: 33445\n",
      "Combined gold of Red side players: 40910\n",
      "Blue side won: False\n",
      "Combined gold winning team: 40910\n",
      "Combined gold lossing team: 33445\n",
      "Gold difference between winning and lossing: 7465\n",
      "\n",
      "Combined gold of Blue side players: 27627\n",
      "Combined gold of Red side players: 16111\n",
      "Blue side won: True\n",
      "Combined gold winning team: 27627\n",
      "Combined gold lossing team: 16111\n",
      "Gold difference between winning and lossing: 11516\n",
      "\n",
      "Combined gold of Blue side players: 34884\n",
      "Combined gold of Red side players: 21367\n",
      "Blue side won: True\n",
      "Combined gold winning team: 34884\n",
      "Combined gold lossing team: 21367\n",
      "Gold difference between winning and lossing: 13517\n",
      "\n",
      "Combined gold of Blue side players: 57841\n",
      "Combined gold of Red side players: 41480\n",
      "Blue side won: True\n",
      "Combined gold winning team: 57841\n",
      "Combined gold lossing team: 41480\n",
      "Gold difference between winning and lossing: 16361\n",
      "\n",
      "Combined gold of Blue side players: 52777\n",
      "Combined gold of Red side players: 65601\n",
      "Blue side won: False\n",
      "Combined gold winning team: 65601\n",
      "Combined gold lossing team: 52777\n",
      "Gold difference between winning and lossing: 12824\n",
      "\n",
      "Combined gold of Blue side players: 17783\n",
      "Combined gold of Red side players: 11968\n",
      "Blue side won: True\n",
      "Combined gold winning team: 17783\n",
      "Combined gold lossing team: 11968\n",
      "Gold difference between winning and lossing: 5815\n",
      "\n",
      "Combined gold of Blue side players: 61232\n",
      "Combined gold of Red side players: 71636\n",
      "Blue side won: False\n",
      "Combined gold winning team: 71636\n",
      "Combined gold lossing team: 61232\n",
      "Gold difference between winning and lossing: 10404\n",
      "\n",
      "Combined gold of Blue side players: 39790\n",
      "Combined gold of Red side players: 56006\n",
      "Blue side won: False\n",
      "Combined gold winning team: 56006\n",
      "Combined gold lossing team: 39790\n",
      "Gold difference between winning and lossing: 16216\n",
      "\n",
      "Combined gold of Blue side players: 43526\n",
      "Combined gold of Red side players: 37495\n",
      "Blue side won: True\n",
      "Combined gold winning team: 43526\n",
      "Combined gold lossing team: 37495\n",
      "Gold difference between winning and lossing: 6031\n",
      "\n",
      "Combined gold of Blue side players: 67500\n",
      "Combined gold of Red side players: 60859\n",
      "Blue side won: True\n",
      "Combined gold winning team: 67500\n",
      "Combined gold lossing team: 60859\n",
      "Gold difference between winning and lossing: 6641\n",
      "\n"
     ]
    }
   ],
   "source": [
    "for i in range(int(MatchNumber)):\n",
    "    api_MatchData = \"https://europe.api.riotgames.com/lol/match/v5/matches/\" + match_ids[i] + '?api_key=' + api_key\n",
    "    # print(api_MatchData)\n",
    "\n",
    "    responseMatchData = requests.get(api_MatchData)\n",
    "    match_data = responseMatchData.json()\n",
    "\n",
    "    # Calculate combined gold of the first 5 players\n",
    "    team1_participants = match_data['info']['participants'][:5]\n",
    "    team1_gold = calculate_combined_gold(team1_participants)\n",
    "    print(\"Combined gold of Blue side players:\", team1_gold)\n",
    "\n",
    "    # Calculate combined gold of the last 5 players\n",
    "    team2_participants = match_data['info']['participants'][-5:]\n",
    "    team2_gold = calculate_combined_gold(team2_participants)\n",
    "    print(\"Combined gold of Red side players:\", team2_gold)\n",
    "    \n",
    "    print(\"Blue side won:\", match_data['info']['participants'][0]['win'])\n",
    "\n",
    "    if match_data['info']['participants'][0]['win']:\n",
    "        winning_team_gold = team1_gold\n",
    "        lossing_team_gold = team2_gold\n",
    "    else:\n",
    "        winning_team_gold = team2_gold\n",
    "        lossing_team_gold = team1_gold\n",
    "\n",
    "    print(\"Combined gold winning team:\", winning_team_gold)\n",
    "    print(\"Combined gold lossing team:\", lossing_team_gold)\n",
    "    print(\"Gold difference between winning and lossing:\", winning_team_gold - lossing_team_gold)\n",
    "\n",
    "    print(\"\")"
   ]
  },
  {
   "cell_type": "code",
   "execution_count": null,
   "id": "ecb80af3-8fb1-4a13-ab57-a645c9a44741",
   "metadata": {},
   "outputs": [],
   "source": [
    "https://europe.api.riotgames.com/lol/match/v5/matches/EUW1_6465540349/timeline"
   ]
  },
  {
   "cell_type": "code",
   "execution_count": 55,
   "id": "3e0002d7-7ba2-4f5f-bff2-b9449a03d52c",
   "metadata": {},
   "outputs": [
    {
     "name": "stdout",
     "output_type": "stream",
     "text": [
      "https://europe.api.riotgames.com/lol/match/v5/matches/EUW1_6465599981/timeline?api_key=RGAPI-45aa22fd-1a67-4cdc-bb2b-0bb815ea7d02\n"
     ]
    }
   ],
   "source": [
    "api_MatchTimeline = \"https://europe.api.riotgames.com/lol/match/v5/matches/\" + match_ids[0] + '/timeline'+ '?api_key=' + api_key \n",
    "print(api_MatchTimeline)\n",
    "\n",
    "responseMatchTimeline = requests.get(api_MatchTimeline)\n",
    "match_timeline = responseMatchTimeline.json()"
   ]
  },
  {
   "cell_type": "code",
   "execution_count": null,
   "id": "dd685905-cbfd-4457-822f-12300b9532a7",
   "metadata": {},
   "outputs": [],
   "source": []
  },
  {
   "cell_type": "code",
   "execution_count": 56,
   "id": "2f5f2932-9330-4765-a15f-8bf2f6692f14",
   "metadata": {},
   "outputs": [
    {
     "data": {
      "text/plain": [
       "'EUW1_6465599981'"
      ]
     },
     "execution_count": 56,
     "metadata": {},
     "output_type": "execute_result"
    }
   ],
   "source": [
    "match_ids[0]"
   ]
  },
  {
   "cell_type": "code",
   "execution_count": 69,
   "id": "7ec29c7e-0d1a-469b-b608-698c2873714f",
   "metadata": {},
   "outputs": [],
   "source": [
    "team_1 = {\"Gold\": 0, \"Level\": 0, \"Minions\": 0, \"Jungle_minions\": 0, \"Kills\": 0, \"Assists\": 0, \"Deaths\": 0, \"Plates\": 0, \"Towers\": 0, \"Dragons\": 0, \"Heralds\": 0, \"Sight_wards\": 0, \"Control_wards\": 0}\n",
    "team_2 = {\"Gold\": 0, \"Level\": 0, \"Minions\": 0, \"Jungle_minions\": 0, \"Kills\": 0, \"Assists\": 0, \"Deaths\": 0, \"Plates\": 0, \"Towers\": 0, \"Dragons\": 0, \"Heralds\": 0, \"Sight_wards\": 0, \"Control_wards\": 0}"
   ]
  },
  {
   "cell_type": "code",
   "execution_count": 70,
   "id": "8f314683-2ab5-4ffa-a8b6-dfca49564a46",
   "metadata": {},
   "outputs": [],
   "source": [
    "for i in range(1, 6): \n",
    "                           team_1[\"Gold\"] = team_1[\"Gold\"] + match_timeline[\"info\"][\"frames\"][36][\"participantFrames\"][f\"{i}\"][\"totalGold\"]\n",
    "                           team_1[\"Level\"] = team_1[\"Level\"] + match_timeline[\"info\"][\"frames\"][14][\"participantFrames\"][f\"{i}\"][\"level\"]\n",
    "                           team_1[\"Minions\"] = team_1[\"Minions\"] + match_timeline[\"info\"][\"frames\"][14][\"participantFrames\"][f\"{i}\"][\"minionsKilled\"]\n",
    "                           team_1[\"Jungle_minions\"] = team_1[\"Jungle_minions\"] + match_timeline[\"info\"][\"frames\"][14][\"participantFrames\"][f\"{i}\"][\"jungleMinionsKilled\"]\n",
    "                    \n",
    "for i in range(6, 11): \n",
    "                           team_2[\"Gold\"] = team_2[\"Gold\"] + match_timeline[\"info\"][\"frames\"][36][\"participantFrames\"][f\"{i}\"][\"totalGold\"]\n",
    "                           team_2[\"Level\"] = team_2[\"Level\"] + match_timeline[\"info\"][\"frames\"][14][\"participantFrames\"][f\"{i}\"][\"level\"]\n",
    "                           team_2[\"Minions\"] = team_2[\"Minions\"] + match_timeline[\"info\"][\"frames\"][14][\"participantFrames\"][f\"{i}\"][\"minionsKilled\"]\n",
    "                           team_2[\"Jungle_minions\"] = team_2[\"Jungle_minions\"] + match_timeline[\"info\"][\"frames\"][14][\"participantFrames\"][f\"{i}\"][\"jungleMinionsKilled\"]"
   ]
  },
  {
   "cell_type": "code",
   "execution_count": 72,
   "id": "a65888cc-e1cc-4e78-b3f2-2623ea595b2e",
   "metadata": {},
   "outputs": [
    {
     "data": {
      "text/plain": [
       "71680"
      ]
     },
     "execution_count": 72,
     "metadata": {},
     "output_type": "execute_result"
    }
   ],
   "source": [
    "team_2[\"Gold\"]"
   ]
  },
  {
   "cell_type": "code",
   "execution_count": null,
   "id": "30b8e502-ee82-45f3-b2d9-83cb29985229",
   "metadata": {},
   "outputs": [],
   "source": []
  }
 ],
 "metadata": {
  "kernelspec": {
   "display_name": "Python 3 (ipykernel)",
   "language": "python",
   "name": "python3"
  },
  "language_info": {
   "codemirror_mode": {
    "name": "ipython",
    "version": 3
   },
   "file_extension": ".py",
   "mimetype": "text/x-python",
   "name": "python",
   "nbconvert_exporter": "python",
   "pygments_lexer": "ipython3",
   "version": "3.8.6"
  }
 },
 "nbformat": 4,
 "nbformat_minor": 5
}
