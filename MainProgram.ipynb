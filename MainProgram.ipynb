{
 "cells": [
  {
   "cell_type": "code",
   "execution_count": 4,
   "id": "0cbb6c4f-eeeb-4605-9fcf-d04abcb7bb1b",
   "metadata": {},
   "outputs": [],
   "source": [
    "import os\n",
    "import time\n",
    "import requests\n",
    "import pandas as pd\n",
    "import numpy as np"
   ]
  },
  {
   "cell_type": "code",
   "execution_count": 7,
   "id": "0f126466-9d91-4bdf-a670-70251d722118",
   "metadata": {},
   "outputs": [],
   "source": [
    "api_key = \"x\"\n",
    "username = \"Friskis1\"\n",
    "StartNumber = \"0\"\n",
    "EndNumber = \"50\""
   ]
  },
  {
   "cell_type": "code",
   "execution_count": 9,
   "id": "c58380a9-7508-48f1-b68d-bd5e9499ab95",
   "metadata": {},
   "outputs": [
    {
     "name": "stdout",
     "output_type": "stream",
     "text": [
      "dooNWFlwTU6q794hnSdONn9c6Ooqjb3I1ZQ43gNaL2WboUYU79deWZF4UHpOFOc0M2T2B1QAuXXzuQ\n",
      "execute other\n"
     ]
    }
   ],
   "source": [
    "api_AccountURL = \"https://euw1.api.riotgames.com/lol/summoner/v4/summoners/by-name/\" + username\n",
    "# print(api_AccountURL)\n",
    "\n",
    "api_AccountURLandAPI = api_AccountURL + '?api_key=' + api_key\n",
    "# print(api_AccountURLandAPI)\n",
    "\n",
    "responseAccount = requests.get(api_AccountURLandAPI)\n",
    "player_info = responseAccount.json()\n",
    "# print(player_info)\n",
    "\n",
    "puuid = player_info['puuid']\n",
    "print(puuid)\n",
    "\n",
    "# api_MatchHistory = \"https://europe.api.riotgames.com/lol/match/v5/matches/by-puuid/\" + puuid + \"/ids?start=0&count=\" + MatchNumber\n",
    "# print(api_MatchHistory)\n",
    "\n",
    "# api_MatchHistoryAPI = api_MatchHistory + '&api_key=' + api_key \n",
    "# print(api_MatchHistoryAPI)\n",
    "\n",
    "# responseMatchHistory = requests.get(api_MatchHistoryAPI)\n",
    "# match_ids = responseMatchHistory.json()\n",
    "\n",
    "# print(match_ids)\n",
    "\n",
    "time.sleep(120)\n",
    "print(\"execute other\")"
   ]
  },
  {
   "cell_type": "code",
   "execution_count": 10,
   "id": "02048784-8f4c-4fe1-9d76-da551a5d34f7",
   "metadata": {},
   "outputs": [
    {
     "data": {
      "text/plain": [
       "{'id': 'tJj6KLiapMSU5ItryzWyIbIRyuNuMwvcHD5E51iLoSda8Db6PdvQZx-BHg',\n",
       " 'accountId': 'kSQrFrJ_5owJ8M2lLn5ox8IvXEWhg3KEaxb8lG-nJepO5ZmXShyntUl7',\n",
       " 'puuid': 'dooNWFlwTU6q794hnSdONn9c6Ooqjb3I1ZQ43gNaL2WboUYU79deWZF4UHpOFOc0M2T2B1QAuXXzuQ',\n",
       " 'name': 'Friskis1',\n",
       " 'profileIconId': 5799,\n",
       " 'revisionDate': 1687624038293,\n",
       " 'summonerLevel': 307}"
      ]
     },
     "execution_count": 10,
     "metadata": {},
     "output_type": "execute_result"
    }
   ],
   "source": [
    "player_info"
   ]
  },
  {
   "cell_type": "code",
   "execution_count": 4,
   "id": "49b98ca2-b87f-4b04-bd3f-50188d33c998",
   "metadata": {},
   "outputs": [],
   "source": [
    "# def calculate_combined_gold(participants):\n",
    "#     total_gold = 0\n",
    "#     for participant in participants:\n",
    "#         total_gold += participant['goldEarned']\n",
    "#     return total_gold"
   ]
  },
  {
   "cell_type": "code",
   "execution_count": 46,
   "id": "0cecffd4-4a88-4a43-ac52-5cd5fd044718",
   "metadata": {},
   "outputs": [],
   "source": [
    "# for i in range(int(MatchNumber)):\n",
    "    # api_MatchData = \"https://europe.api.riotgames.com/lol/match/v5/matches/\" + match_ids[i] + '?api_key=' + api_key\n",
    "    # print(api_MatchData)\n",
    "\n",
    "    # responseMatchData = requests.get(api_MatchData)\n",
    "    # match_data = responseMatchData.json()\n",
    "\n",
    "    # Calculate combined gold of the first 5 players\n",
    "    # team1_participants = match_data['info']['participants'][:5]\n",
    "    # team1_gold = calculate_combined_gold(team1_participants)\n",
    "    # print(\"Combined gold of Blue side players:\", team1_gold)\n",
    "\n",
    "    # Calculate combined gold of the last 5 players\n",
    "    # team2_participants = match_data['info']['participants'][-5:]\n",
    "    # team2_gold = calculate_combined_gold(team2_participants)\n",
    "    # print(\"Combined gold of Red side players:\", team2_gold)\n",
    "    \n",
    "    # print(\"Blue side won:\", match_data['info']['participants'][0]['win'])\n",
    "\n",
    "    # if match_data['info']['participants'][0]['win']:\n",
    "        # winning_team_gold = team1_gold\n",
    "        # lossing_team_gold = team2_gold\n",
    "    # else:\n",
    "        # winning_team_gold = team2_gold\n",
    "        # lossing_team_gold = team1_gold\n",
    "\n",
    "    # print(\"Combined gold winning team:\", winning_team_gold)\n",
    "    # print(\"Combined gold lossing team:\", lossing_team_gold)\n",
    "    # print(\"Gold difference between winning and lossing:\", winning_team_gold - lossing_team_gold)\n",
    "\n",
    "    # print(\"\")"
   ]
  },
  {
   "cell_type": "code",
   "execution_count": 41,
   "id": "3e0002d7-7ba2-4f5f-bff2-b9449a03d52c",
   "metadata": {},
   "outputs": [],
   "source": [
    "# team_1[\"Gold\"]"
   ]
  },
  {
   "cell_type": "code",
   "execution_count": 21,
   "id": "13b1121d-93b0-4d84-bf6b-006981c13540",
   "metadata": {},
   "outputs": [],
   "source": [
    "# api_MatchTimeline = \"https://europe.api.riotgames.com/lol/match/v5/matches/\" + match_ids[0] + '/timeline' + '?api_key=' + api_key\n",
    "# responseMatchTimeline = requests.get(api_MatchTimeline)\n",
    "# match_timeline = responseMatchTimeline.json()"
   ]
  },
  {
   "cell_type": "code",
   "execution_count": 42,
   "id": "ff6e4490-ee98-447e-8387-444033e8f06c",
   "metadata": {},
   "outputs": [],
   "source": [
    "# match_timeline[\"info\"][\"frames\"][14][\"participantFrames\"][f\"{j}\"][\"totalGold\"]"
   ]
  },
  {
   "cell_type": "code",
   "execution_count": 18,
   "id": "8f314683-2ab5-4ffa-a8b6-dfca49564a46",
   "metadata": {},
   "outputs": [],
   "source": [
    "file_path = \"team_data.csv\"\n",
    "\n",
    "if os.path.exists(file_path):\n",
    "    os.remove(file_path)\n",
    "\n",
    "combined_data = []  # List to store the combined data for all iterations\n",
    "\n",
    "for i in range(int(MatchNumber)):\n",
    "    api_MatchData = \"https://europe.api.riotgames.com/lol/match/v5/matches/\" + match_ids[i] + '?api_key=' + api_key\n",
    "    responseMatchData = requests.get(api_MatchData)\n",
    "    match_data = responseMatchData.json()\n",
    "\n",
    "    api_MatchTimeline = \"https://europe.api.riotgames.com/lol/match/v5/matches/\" + match_ids[i] + '/timeline' + '?api_key=' + api_key\n",
    "    responseMatchTimeline = requests.get(api_MatchTimeline)\n",
    "    match_timeline = responseMatchTimeline.json()\n",
    "    \n",
    "    if match_data[\"info\"][\"gameMode\"] == \"CLASSIC\":\n",
    "\n",
    "        team_1 = {\"Gold\": 0, \"Level\": 0, \"Minions\": 0, \"Jungle_minions\": 0}\n",
    "        team_2 = {\"Gold\": 0, \"Level\": 0, \"Minions\": 0, \"Jungle_minions\": 0}\n",
    "    \n",
    "        frame_index = min(14, len(match_timeline[\"info\"][\"frames\"]) - 1)\n",
    "\n",
    "        for j in range(1, 6):\n",
    "            participant_frame = match_timeline[\"info\"][\"frames\"][frame_index][\"participantFrames\"].get(str(j))\n",
    "            if participant_frame is not None:\n",
    "                team_1[\"Gold\"] += participant_frame[\"totalGold\"]\n",
    "                team_1[\"Level\"] += participant_frame[\"level\"]\n",
    "                team_1[\"Minions\"] += participant_frame[\"minionsKilled\"]\n",
    "                team_1[\"Jungle_minions\"] += participant_frame[\"jungleMinionsKilled\"]\n",
    "\n",
    "        for j in range(6, 11):\n",
    "            participant_frame = match_timeline[\"info\"][\"frames\"][frame_index][\"participantFrames\"].get(str(j))\n",
    "            if participant_frame is not None:\n",
    "                team_2[\"Gold\"] += participant_frame[\"totalGold\"]\n",
    "                team_2[\"Level\"] += participant_frame[\"level\"]\n",
    "                team_2[\"Minions\"] += participant_frame[\"minionsKilled\"]\n",
    "                team_2[\"Jungle_minions\"] += participant_frame[\"jungleMinionsKilled\"]\n",
    "            \n",
    "        team_1[\"Level\"] /= 5\n",
    "        team_2[\"Level\"] /= 5\n",
    "\n",
    "        team_1[\"Gold_diff\"] = team_1[\"Gold\"] - team_2[\"Gold\"]\n",
    "        team_2[\"Gold_diff\"] = team_2[\"Gold\"] - team_1[\"Gold\"]\n",
    "\n",
    "        if match_data[\"info\"][\"teams\"][0][\"win\"]:\n",
    "            team_1[\"Win\"] = 1\n",
    "            team_2[\"Win\"] = 0\n",
    "        else:\n",
    "            team_1[\"Win\"] = 0\n",
    "            team_2[\"Win\"] = 1\n",
    "\n",
    "        team_1_data = {'Gold': team_1[\"Gold\"], 'Level': team_1[\"Level\"], 'Minions': team_1[\"Minions\"], 'Jungle_minions': team_1[\"Jungle_minions\"], 'Gold_diff': team_1[\"Gold_diff\"], 'Win': team_1[\"Win\"]}\n",
    "        team_2_data = {'Gold': team_2[\"Gold\"], 'Level': team_2[\"Level\"], 'Minions': team_2[\"Minions\"], 'Jungle_minions': team_2[\"Jungle_minions\"], 'Gold_diff': team_2[\"Gold_diff\"], 'Win': team_2[\"Win\"]}\n",
    "\n",
    "        combined_data.append(team_1_data)\n",
    "        combined_data.append(team_2_data)\n",
    "\n",
    "combined_df = pd.DataFrame(combined_data)\n",
    "combined_df.to_csv('team_data.csv', index=False)"
   ]
  },
  {
   "cell_type": "code",
   "execution_count": null,
   "id": "30b8e502-ee82-45f3-b2d9-83cb29985229",
   "metadata": {},
   "outputs": [],
   "source": []
  },
  {
   "cell_type": "code",
   "execution_count": 20,
   "id": "32aa2c14-7e11-40bd-a8f6-3f3578aca979",
   "metadata": {},
   "outputs": [],
   "source": [
    "file_path = \"team_data.csv\"\n",
    "\n",
    "if os.path.exists(file_path):\n",
    "    os.remove(file_path)"
   ]
  },
  {
   "cell_type": "code",
   "execution_count": 24,
   "id": "d051bbf8-bbb3-4ac7-83c6-1e2ce52fefd6",
   "metadata": {},
   "outputs": [
    {
     "ename": "KeyError",
     "evalue": "0",
     "output_type": "error",
     "traceback": [
      "\u001b[1;31m---------------------------------------------------------------------------\u001b[0m",
      "\u001b[1;31mKeyError\u001b[0m                                  Traceback (most recent call last)",
      "Cell \u001b[1;32mIn [24], line 24\u001b[0m\n\u001b[0;32m     21\u001b[0m time\u001b[38;5;241m.\u001b[39msleep(\u001b[38;5;241m120\u001b[39m)\n\u001b[0;32m     23\u001b[0m \u001b[38;5;28;01mfor\u001b[39;00m i \u001b[38;5;129;01min\u001b[39;00m \u001b[38;5;28mrange\u001b[39m(\u001b[38;5;241m50\u001b[39m):\n\u001b[1;32m---> 24\u001b[0m     api_MatchData \u001b[38;5;241m=\u001b[39m \u001b[38;5;124m\"\u001b[39m\u001b[38;5;124mhttps://europe.api.riotgames.com/lol/match/v5/matches/\u001b[39m\u001b[38;5;124m\"\u001b[39m \u001b[38;5;241m+\u001b[39m \u001b[43mmatch_ids\u001b[49m\u001b[43m[\u001b[49m\u001b[43mi\u001b[49m\u001b[43m]\u001b[49m \u001b[38;5;241m+\u001b[39m \u001b[38;5;124m'\u001b[39m\u001b[38;5;124m?api_key=\u001b[39m\u001b[38;5;124m'\u001b[39m \u001b[38;5;241m+\u001b[39m api_key\n\u001b[0;32m     25\u001b[0m     responseMatchData \u001b[38;5;241m=\u001b[39m requests\u001b[38;5;241m.\u001b[39mget(api_MatchData)\n\u001b[0;32m     26\u001b[0m     match_data \u001b[38;5;241m=\u001b[39m responseMatchData\u001b[38;5;241m.\u001b[39mjson()\n",
      "\u001b[1;31mKeyError\u001b[0m: 0"
     ]
    }
   ],
   "source": [
    "import time\n",
    "\n",
    "# Initialize StartNumber and EndNumber\n",
    "StartNumber = 0\n",
    "EndNumber = 50\n",
    "\n",
    "# Perform the loop 2 times\n",
    "for _ in range(2):\n",
    "    time.sleep(120)\n",
    "\n",
    "    # Initialize combined_data for each iteration\n",
    "    combined_data = []\n",
    "\n",
    "    api_MatchHistory = \"https://europe.api.riotgames.com/lol/match/v5/matches/by-puuid/\" + puuid + \"/ids?start=\" + str(StartNumber) + \"&count=\" + str(EndNumber)\n",
    "\n",
    "    api_MatchHistoryAPI = api_MatchHistory + '&api_key=' + api_key\n",
    "\n",
    "    responseMatchHistory = requests.get(api_MatchHistoryAPI)\n",
    "    match_ids = responseMatchHistory.json()\n",
    "\n",
    "    time.sleep(120)\n",
    "\n",
    "    for i in range(50):\n",
    "        api_MatchData = \"https://europe.api.riotgames.com/lol/match/v5/matches/\" + match_ids[i] + '?api_key=' + api_key\n",
    "        responseMatchData = requests.get(api_MatchData)\n",
    "        match_data = responseMatchData.json()\n",
    "\n",
    "        api_MatchTimeline = \"https://europe.api.riotgames.com/lol/match/v5/matches/\" + match_ids[i] + '/timeline' + '?api_key=' + api_key\n",
    "        responseMatchTimeline = requests.get(api_MatchTimeline)\n",
    "        match_timeline = responseMatchTimeline.json()\n",
    "\n",
    "        if match_data[\"info\"][\"gameMode\"] == \"CLASSIC\":\n",
    "            team_1 = {\"Gold\": 0, \"Level\": 0, \"Minions\": 0, \"Jungle_minions\": 0}\n",
    "            team_2 = {\"Gold\": 0, \"Level\": 0, \"Minions\": 0, \"Jungle_minions\": 0}\n",
    "\n",
    "            frame_index = min(14, len(match_timeline[\"info\"][\"frames\"]) - 1)\n",
    "\n",
    "            for j in range(1, 6):\n",
    "                participant_frame = match_timeline[\"info\"][\"frames\"][frame_index][\"participantFrames\"].get(str(j))\n",
    "                if participant_frame is not None:\n",
    "                    team_1[\"Gold\"] += participant_frame[\"totalGold\"]\n",
    "                    team_1[\"Level\"] += participant_frame[\"level\"]\n",
    "                    team_1[\"Minions\"] += participant_frame[\"minionsKilled\"]\n",
    "                    team_1[\"Jungle_minions\"] += participant_frame[\"jungleMinionsKilled\"]\n",
    "\n",
    "            for j in range(6, 11):\n",
    "                participant_frame = match_timeline[\"info\"][\"frames\"][frame_index][\"participantFrames\"].get(str(j))\n",
    "                if participant_frame is not None:\n",
    "                    team_2[\"Gold\"] += participant_frame[\"totalGold\"]\n",
    "                    team_2[\"Level\"] += participant_frame[\"level\"]\n",
    "                    team_2[\"Minions\"] += participant_frame[\"minionsKilled\"]\n",
    "                    team_2[\"Jungle_minions\"] += participant_frame[\"jungleMinionsKilled\"]\n",
    "\n",
    "            team_1[\"Level\"] /= 5\n",
    "            team_2[\"Level\"] /= 5\n",
    "\n",
    "            team_1[\"Gold_diff\"] = team_1[\"Gold\"] - team_2[\"Gold\"]\n",
    "            team_2[\"Gold_diff\"] = team_2[\"Gold\"] - team_1[\"Gold\"]\n",
    "\n",
    "            if match_data[\"info\"][\"teams\"][0][\"win\"]:\n",
    "                team_1[\"Win\"] = 1\n",
    "                team_2[\"Win\"] = 0\n",
    "            else:\n",
    "                team_1[\"Win\"] = 0\n",
    "                team_2[\"Win\"] = 1\n",
    "\n",
    "            team_1_data = {'Gold': team_1[\"Gold\"], 'Level': team_1[\"Level\"], 'Minions': team_1[\"Minions\"], 'Jungle_minions': team_1[\"Jungle_minions\"], 'Gold_diff': team_1[\"Gold_diff\"], 'Win': team_1[\"Win\"]}\n",
    "            team_2_data = {'Gold': team_2[\"Gold\"], 'Level': team_2[\"Level\"], 'Minions': team_2[\"Minions\"], 'Jungle_minions': team_2[\"Jungle_minions\"], 'Gold_diff': team_2[\"Gold_diff\"], 'Win': team_2[\"Win\"]}\n",
    "\n",
    "            combined_data.append(team_1_data)\n",
    "            combined_data.append(team_2_data)\n",
    "\n",
    "    # Update StartNumber and EndNumber for the next iteration\n",
    "    StartNumber += 50\n",
    "    EndNumber += 50\n",
    "\n",
    "    print(\"loop\")\n",
    "\n",
    "    # Save the combined data to a CSV file\n",
    "    combined_df = pd.DataFrame(combined_data)\n",
    "    combined_df.to_csv('team_data.csv', index=False, mode='a', header=not os.path.exists('team_data.csv'))\n"
   ]
  },
  {
   "cell_type": "code",
   "execution_count": 25,
   "id": "0ff10a49-2a8a-4cf4-8c36-26c31e2174d2",
   "metadata": {},
   "outputs": [
    {
     "data": {
      "text/plain": [
       "100"
      ]
     },
     "execution_count": 25,
     "metadata": {},
     "output_type": "execute_result"
    }
   ],
   "source": [
    "StartNumber"
   ]
  },
  {
   "cell_type": "code",
   "execution_count": 26,
   "id": "ad0320cb-6419-49b5-b648-256ef78d0707",
   "metadata": {},
   "outputs": [
    {
     "data": {
      "text/plain": [
       "<Response [400]>"
      ]
     },
     "execution_count": 26,
     "metadata": {},
     "output_type": "execute_result"
    }
   ],
   "source": [
    "responseMatchHistory"
   ]
  },
  {
   "cell_type": "code",
   "execution_count": 27,
   "id": "ac8b3ba2-df67-4b7b-87c0-3f04087c6131",
   "metadata": {},
   "outputs": [
    {
     "data": {
      "text/plain": [
       "'https://europe.api.riotgames.com/lol/match/v5/matches/by-puuid/dooNWFlwTU6q794hnSdONn9c6Ooqjb3I1ZQ43gNaL2WboUYU79deWZF4UHpOFOc0M2T2B1QAuXXzuQ/ids?start=100&count=150&api_key=RGAPI-45aa22fd-1a67-4cdc-bb2b-0bb815ea7d02'"
      ]
     },
     "execution_count": 27,
     "metadata": {},
     "output_type": "execute_result"
    }
   ],
   "source": [
    "api_MatchHistoryAPI"
   ]
  },
  {
   "cell_type": "code",
   "execution_count": null,
   "id": "d0d49df0-a533-41bc-86a2-5941948a82f8",
   "metadata": {},
   "outputs": [],
   "source": []
  }
 ],
 "metadata": {
  "kernelspec": {
   "display_name": "Python 3 (ipykernel)",
   "language": "python",
   "name": "python3"
  },
  "language_info": {
   "codemirror_mode": {
    "name": "ipython",
    "version": 3
   },
   "file_extension": ".py",
   "mimetype": "text/x-python",
   "name": "python",
   "nbconvert_exporter": "python",
   "pygments_lexer": "ipython3",
   "version": "3.8.6"
  }
 },
 "nbformat": 4,
 "nbformat_minor": 5
}
