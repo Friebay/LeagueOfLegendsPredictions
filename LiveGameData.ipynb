{
 "cells": [
  {
   "cell_type": "code",
   "execution_count": 64,
   "id": "08dcaa84-1f9a-4efb-a09a-244d5dd7abf2",
   "metadata": {},
   "outputs": [
    {
     "name": "stdout",
     "output_type": "stream",
     "text": [
      "Game Time: 24 minutes 57.0595703125 seconds\n"
     ]
    }
   ],
   "source": [
    "import json\n",
    "import requests\n",
    "import time\n",
    "\n",
    "# Disable SSL certificate verification\n",
    "requests.packages.urllib3.disable_warnings()\n",
    "\n",
    "# Fetch the JSON data from the URL without SSL verification\n",
    "url = \"https://127.0.0.1:2999/liveclientdata/gamestats\"\n",
    "\n",
    "# Make the request and retrieve the data\n",
    "response = requests.get(url, verify=False)\n",
    "data = response.json()\n",
    "\n",
    "# Extract the gameTime value\n",
    "game_time_seconds = data[\"gameTime\"]\n",
    "\n",
    "# Convert game_time to minutes and seconds\n",
    "minutes = game_time_seconds // 60\n",
    "seconds = game_time_seconds % 60\n",
    "\n",
    "# Format minutes and seconds without decimal places\n",
    "formatted_minutes = \"{:.0f}\".format(minutes)\n",
    "formatted_seconds = \"{:.0f}\".format(seconds)\n",
    "\n",
    "# Print the converted time\n",
    "print(\"Game Time: {} minutes {} seconds\".format(formatted_minutes, seconds))\n"
   ]
  },
  {
   "cell_type": "code",
   "execution_count": 65,
   "id": "e9993a38-99ae-4d5a-8a3b-cce1012db2cb",
   "metadata": {},
   "outputs": [
    {
     "name": "stdout",
     "output_type": "stream",
     "text": [
      "Average of levels for players in the 'ORDER' team: 14.6\n",
      "Average of levels for players in the 'CHAOS' team: 12.8\n"
     ]
    }
   ],
   "source": [
    "import requests\n",
    "\n",
    "playerlistURL = \"https://127.0.0.1:2999/liveclientdata/playerlist\"\n",
    "response = requests.get(playerlistURL, verify=False)\n",
    "data = response.json()\n",
    "\n",
    "# Calculate the sum of levels for players in \"ORDER\" team\n",
    "order_levels = []\n",
    "for obj in data:\n",
    "    if obj.get(\"team\") == \"ORDER\":\n",
    "        order_levels.append(int(obj[\"level\"]))\n",
    "\n",
    "# Calculate the sum of levels for players in \"CHAOS\" team\n",
    "chaos_levels = []\n",
    "for obj in data:\n",
    "    if obj.get(\"team\") == \"CHAOS\":\n",
    "        chaos_levels.append(int(obj[\"level\"]))\n",
    "\n",
    "# Calculate the average levels for each team\n",
    "order_average = sum(order_levels) / len(order_levels)\n",
    "chaos_average = sum(chaos_levels) / len(chaos_levels)\n",
    "\n",
    "# Print the averages\n",
    "print(f\"Average of levels for players in the 'ORDER' team: {order_average}\")\n",
    "print(f\"Average of levels for players in the 'CHAOS' team: {chaos_average}\")\n"
   ]
  },
  {
   "cell_type": "code",
   "execution_count": 66,
   "id": "10d42a08-bb0c-4033-8761-107bc2e839ba",
   "metadata": {},
   "outputs": [
    {
     "name": "stdout",
     "output_type": "stream",
     "text": [
      "Sum of scores for players in 'ORDER' team:\n",
      "{'assists': 40, 'creepScore': 790, 'deaths': 9, 'kills': 34, 'wardScore': 96.9509973526001}\n",
      "Sum of scores for players in 'CHAOS' team:\n",
      "{'assists': 12, 'creepScore': 680, 'deaths': 34, 'kills': 9, 'wardScore': 84.47742748260498}\n"
     ]
    }
   ],
   "source": [
    "import requests\n",
    "\n",
    "playerlistURL = \"https://127.0.0.1:2999/liveclientdata/playerlist\"\n",
    "response = requests.get(playerlistURL, verify=False)\n",
    "data = response.json()\n",
    "\n",
    "# Calculate the sum of scores for players in \"ORDER\" team\n",
    "order_scores = {}\n",
    "for key in data[0][\"scores\"]:\n",
    "    order_scores[key] = sum(obj[\"scores\"][key] for obj in data if obj.get(\"team\") == \"ORDER\")\n",
    "\n",
    "# Calculate the sum of scores for players in \"CHAOS\" team\n",
    "chaos_scores = {}\n",
    "for key in data[0][\"scores\"]:\n",
    "    chaos_scores[key] = sum(obj[\"scores\"][key] for obj in data if obj.get(\"team\") == \"CHAOS\")\n",
    "\n",
    "# Print the sums\n",
    "print(\"Sum of scores for players in 'ORDER' team:\")\n",
    "print(order_scores)\n",
    "print(\"Sum of scores for players in 'CHAOS' team:\")\n",
    "print(chaos_scores)\n"
   ]
  },
  {
   "cell_type": "code",
   "execution_count": 67,
   "id": "07ee3e2f-a7d5-4363-a0b2-f4152d5822cc",
   "metadata": {},
   "outputs": [
    {
     "name": "stdout",
     "output_type": "stream",
     "text": [
      "Team 1 Items:\n",
      "[3071, 6632, 3158, 3091, 3340, 4636, 3041, 4645, 1058, 3020, 1058, 3364, 3020, 3152, 3100, 1058, 1056, 3340, 1055, 3035, 6672, 3006, 6671, 1018, 3363, 3860, 3504, 2424, 6620, 3158, 3364]\n",
      "Team 2 Items:\n",
      "[2031, 3074, 3133, 6630, 3158, 1036, 3364, 3051, 6029, 6672, 3111, 3067, 3364, 6653, 3020, 3116, 3135, 1052, 3340, 6671, 6672, 3158, 1055, 3363, 1001, 2065, 3863, 4642, 3108, 3364]\n"
     ]
    }
   ],
   "source": [
    "import requests\n",
    "\n",
    "def collect_items_by_team(json_data):\n",
    "    team1_items = []\n",
    "    team2_items = []\n",
    "\n",
    "    for player in json_data:\n",
    "        team = player[\"team\"]\n",
    "        items = player[\"items\"]\n",
    "\n",
    "        if team == \"ORDER\":\n",
    "            team1_items.extend(item[\"itemID\"] for item in items)\n",
    "        elif team == \"CHAOS\":\n",
    "            team2_items.extend(item[\"itemID\"] for item in items)\n",
    "\n",
    "    return team1_items, team2_items\n",
    "\n",
    "\n",
    "# Disable SSL certificate verification\n",
    "requests.packages.urllib3.disable_warnings()\n",
    "\n",
    "# Fetch JSON data from the URL\n",
    "url = \"https://127.0.0.1:2999/liveclientdata/playerlist\"\n",
    "response = requests.get(url, verify=False)\n",
    "\n",
    "# Check if the request was successful\n",
    "if response.status_code == 200:\n",
    "    json_data = response.json()\n",
    "    team1_items, team2_items = collect_items_by_team(json_data)\n",
    "    print(\"Team 1 Items:\")\n",
    "    print(team1_items)\n",
    "    print(\"Team 2 Items:\")\n",
    "    print(team2_items)\n",
    "else:\n",
    "    print(\"Failed to fetch JSON data. Status code:\", response.status_code)\n"
   ]
  },
  {
   "cell_type": "code",
   "execution_count": 68,
   "id": "670d58ea-6d03-4cae-a69a-46bfdf42b244",
   "metadata": {},
   "outputs": [
    {
     "name": "stdout",
     "output_type": "stream",
     "text": [
      "Total item price for team 1: 46650 gold.\n",
      "Total item price for team 2: 39035 gold.\n"
     ]
    }
   ],
   "source": [
    "import requests\n",
    "import json\n",
    "\n",
    "# Static URL for the items.json data\n",
    "json_url = \"https://cdn.merakianalytics.com/riot/lol/resources/latest/en-US/items.json\"\n",
    "\n",
    "def get_item_price(item_id):\n",
    "    try:\n",
    "        response = requests.get(json_url)\n",
    "        data = json.loads(response.text)\n",
    "\n",
    "        item_data = data[str(item_id)]\n",
    "        total_price = item_data[\"shop\"][\"prices\"][\"total\"]\n",
    "        return total_price\n",
    "\n",
    "    except (requests.RequestException, json.JSONDecodeError, KeyError):\n",
    "        return None\n",
    "\n",
    "def calculate_total_item_price(item_ids):\n",
    "    total_price = 0\n",
    "    for item_id in item_ids:\n",
    "        price = get_item_price(item_id)\n",
    "        if price is not None:\n",
    "            total_price += price\n",
    "    return total_price\n",
    "\n",
    "# Calculate total item price for team 1\n",
    "team1_total_price = calculate_total_item_price(team1_items)\n",
    "\n",
    "# Calculate total item price for team 2\n",
    "team2_total_price = calculate_total_item_price(team2_items)\n",
    "\n",
    "# Print the results\n",
    "print(f\"Total item price for team 1: {team1_total_price} gold.\")\n",
    "print(f\"Total item price for team 2: {team2_total_price} gold.\")"
   ]
  },
  {
   "cell_type": "code",
   "execution_count": 69,
   "id": "119ff383-11cd-4554-a2a6-9fccf7a31b98",
   "metadata": {},
   "outputs": [],
   "source": [
    "team_1 = {\"Gold\": 0, \"Level\": 0, \"Minions\": 0, \"Jungle_minions\": 0, \"Kills\": 0, \"Assists\": 0, \"Deaths\": 0, \"Plates\": 0, \"Towers\": 0, \"Dragons\": 0, \"Heralds\": 0, \"Sight_wards\": 0, \"Control_wards\": 0}"
   ]
  },
  {
   "cell_type": "code",
   "execution_count": 70,
   "id": "8d329ad5-4f7e-421b-92eb-625063098ff3",
   "metadata": {},
   "outputs": [],
   "source": [
    "team_1[\"Level\"]=order_average\n",
    "team_1[\"Minions\"]=order_scores[\"creepScore\"]\n",
    "team_1[\"Kills\"]=order_scores[\"kills\"]\n",
    "team_1[\"Assists\"]=order_scores[\"assists\"]\n",
    "team_1[\"Deaths\"]=order_scores[\"deaths\"]\n",
    "team_1[\"Gold\"]=team1_total_price"
   ]
  },
  {
   "cell_type": "code",
   "execution_count": 71,
   "id": "5217917f-390e-4583-bfd6-628ff7ef0a49",
   "metadata": {},
   "outputs": [
    {
     "data": {
      "text/plain": [
       "{'Gold': 46650,\n",
       " 'Level': 14.6,\n",
       " 'Minions': 790,\n",
       " 'Jungle_minions': 0,\n",
       " 'Kills': 34,\n",
       " 'Assists': 40,\n",
       " 'Deaths': 9,\n",
       " 'Plates': 0,\n",
       " 'Towers': 0,\n",
       " 'Dragons': 0,\n",
       " 'Heralds': 0,\n",
       " 'Sight_wards': 0,\n",
       " 'Control_wards': 0}"
      ]
     },
     "execution_count": 71,
     "metadata": {},
     "output_type": "execute_result"
    }
   ],
   "source": [
    "team_1"
   ]
  }
 ],
 "metadata": {
  "kernelspec": {
   "display_name": "Python 3 (ipykernel)",
   "language": "python",
   "name": "python3"
  },
  "language_info": {
   "codemirror_mode": {
    "name": "ipython",
    "version": 3
   },
   "file_extension": ".py",
   "mimetype": "text/x-python",
   "name": "python",
   "nbconvert_exporter": "python",
   "pygments_lexer": "ipython3",
   "version": "3.8.6"
  }
 },
 "nbformat": 4,
 "nbformat_minor": 5
}
