{
 "cells": [
  {
   "cell_type": "code",
   "execution_count": 28,
   "id": "08dcaa84-1f9a-4efb-a09a-244d5dd7abf2",
   "metadata": {},
   "outputs": [
    {
     "name": "stdout",
     "output_type": "stream",
     "text": [
      "Game Time: 18 minutes 36.6019287109375 seconds\n"
     ]
    }
   ],
   "source": [
    "import json\n",
    "import requests\n",
    "import time\n",
    "\n",
    "# Disable SSL certificate verification\n",
    "requests.packages.urllib3.disable_warnings()\n",
    "\n",
    "# Fetch the JSON data from the URL without SSL verification\n",
    "url = \"https://127.0.0.1:2999/liveclientdata/gamestats\"\n",
    "\n",
    "# Make the request and retrieve the data\n",
    "response = requests.get(url, verify=False)\n",
    "data = response.json()\n",
    "\n",
    "# Extract the gameTime value\n",
    "game_time_seconds = data[\"gameTime\"]\n",
    "\n",
    "# Convert game_time to minutes and seconds\n",
    "minutes = game_time_seconds // 60\n",
    "seconds = game_time_seconds % 60\n",
    "\n",
    "# Format minutes and seconds without decimal places\n",
    "formatted_minutes = \"{:.0f}\".format(minutes)\n",
    "formatted_seconds = \"{:.0f}\".format(seconds)\n",
    "\n",
    "# Print the converted time\n",
    "print(\"Game Time: {} minutes {} seconds\".format(formatted_minutes, seconds))\n"
   ]
  },
  {
   "cell_type": "code",
   "execution_count": 43,
   "id": "e9993a38-99ae-4d5a-8a3b-cce1012db2cb",
   "metadata": {},
   "outputs": [
    {
     "name": "stdout",
     "output_type": "stream",
     "text": [
      "Avarage of levels for the first five players: 11.8\n",
      "Avarage of levels for the last five players: 13.4\n"
     ]
    }
   ],
   "source": [
    "import json\n",
    "import requests\n",
    "\n",
    "playerlistURL = \"https://127.0.0.1:2999/liveclientdata/playerlist\"\n",
    "response = requests.get(playerlistURL, verify=False)\n",
    "data = response.json()\n",
    "\n",
    "# Extract the levels and convert them to integers\n",
    "levels = [int(obj[\"level\"]) for obj in data]\n",
    "\n",
    "# Calculate the sum of the levels for the first five players\n",
    "first_five = sum(levels[:5])/5\n",
    "\n",
    "# Calculate the sum of the levels for the last five players\n",
    "last_five = sum(levels[-5:])/5\n",
    "\n",
    "# Print the sums\n",
    "print(f\"Avarage of levels for the first five players: {first_five}\")\n",
    "print(f\"Avarage of levels for the last five players: {last_five}\")"
   ]
  },
  {
   "cell_type": "code",
   "execution_count": 45,
   "id": "e163267f-5ad4-4f62-99bc-5b75b6f65192",
   "metadata": {},
   "outputs": [
    {
     "name": "stdout",
     "output_type": "stream",
     "text": [
      "Sum of scores for the first five users:\n",
      "{'assists': 22, 'creepScore': 560, 'deaths': 32, 'kills': 18, 'wardScore': 73.14500284194946}\n",
      "Sum of scores for the last five users:\n",
      "{'assists': 49, 'creepScore': 700, 'deaths': 18, 'kills': 32, 'wardScore': 78.90233182907104}\n"
     ]
    }
   ],
   "source": [
    "import json\n",
    "import requests\n",
    "\n",
    "playerlistURL = \"https://127.0.0.1:2999/liveclientdata/playerlist\"\n",
    "response = requests.get(playerlistURL, verify=False)\n",
    "data = response.json()\n",
    "\n",
    "# Extract the scores for each player\n",
    "scores = []\n",
    "for obj in data:\n",
    "    player_scores = obj[\"scores\"]\n",
    "    scores.append(player_scores)\n",
    "\n",
    "# Calculate the sum of scores for the first five users\n",
    "first_five_scores = scores[:5]\n",
    "first_five_sum = {\n",
    "    key: sum([player_scores[key] for player_scores in first_five_scores])\n",
    "    for key in first_five_scores[0]\n",
    "}\n",
    "\n",
    "# Calculate the sum of scores for the last five users\n",
    "last_five_scores = scores[-5:]\n",
    "last_five_sum = {\n",
    "    key: sum([player_scores[key] for player_scores in last_five_scores])\n",
    "    for key in last_five_scores[0]\n",
    "}\n",
    "\n",
    "# Print the sums\n",
    "print(\"Sum of scores for the first five users:\")\n",
    "print(first_five_sum)\n",
    "print(\"Sum of scores for the last five users:\")\n",
    "print(last_five_sum)\n"
   ]
  },
  {
   "cell_type": "code",
   "execution_count": null,
   "id": "c398bb04-84a6-44c7-900d-a3a91d9fdc87",
   "metadata": {},
   "outputs": [],
   "source": []
  }
 ],
 "metadata": {
  "kernelspec": {
   "display_name": "Python 3 (ipykernel)",
   "language": "python",
   "name": "python3"
  },
  "language_info": {
   "codemirror_mode": {
    "name": "ipython",
    "version": 3
   },
   "file_extension": ".py",
   "mimetype": "text/x-python",
   "name": "python",
   "nbconvert_exporter": "python",
   "pygments_lexer": "ipython3",
   "version": "3.8.6"
  }
 },
 "nbformat": 4,
 "nbformat_minor": 5
}
