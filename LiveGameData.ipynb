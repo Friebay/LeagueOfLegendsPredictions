{
 "cells": [
  {
   "cell_type": "code",
   "execution_count": 28,
   "id": "08dcaa84-1f9a-4efb-a09a-244d5dd7abf2",
   "metadata": {},
   "outputs": [
    {
     "name": "stdout",
     "output_type": "stream",
     "text": [
      "Game Time: 18 minutes 36.6019287109375 seconds\n"
     ]
    }
   ],
   "source": [
    "import json\n",
    "import requests\n",
    "import time\n",
    "\n",
    "# Disable SSL certificate verification\n",
    "requests.packages.urllib3.disable_warnings()\n",
    "\n",
    "# Fetch the JSON data from the URL without SSL verification\n",
    "url = \"https://127.0.0.1:2999/liveclientdata/gamestats\"\n",
    "\n",
    "# Make the request and retrieve the data\n",
    "response = requests.get(url, verify=False)\n",
    "data = response.json()\n",
    "\n",
    "# Extract the gameTime value\n",
    "game_time_seconds = data[\"gameTime\"]\n",
    "\n",
    "# Convert game_time to minutes and seconds\n",
    "minutes = game_time_seconds // 60\n",
    "seconds = game_time_seconds % 60\n",
    "\n",
    "# Format minutes and seconds without decimal places\n",
    "formatted_minutes = \"{:.0f}\".format(minutes)\n",
    "formatted_seconds = \"{:.0f}\".format(seconds)\n",
    "\n",
    "# Print the converted time\n",
    "print(\"Game Time: {} minutes {} seconds\".format(formatted_minutes, seconds))\n"
   ]
  },
  {
   "cell_type": "code",
   "execution_count": 53,
   "id": "e9993a38-99ae-4d5a-8a3b-cce1012db2cb",
   "metadata": {},
   "outputs": [
    {
     "name": "stdout",
     "output_type": "stream",
     "text": [
      "Average of levels for players in the 'ORDER' team: 11.2\n",
      "Average of levels for players in the 'CHAOS' team: 12.4\n"
     ]
    }
   ],
   "source": [
    "import requests\n",
    "\n",
    "playerlistURL = \"https://127.0.0.1:2999/liveclientdata/playerlist\"\n",
    "response = requests.get(playerlistURL, verify=False)\n",
    "data = response.json()\n",
    "\n",
    "# Calculate the sum of levels for players in \"ORDER\" team\n",
    "order_levels = []\n",
    "for obj in data:\n",
    "    if obj.get(\"team\") == \"ORDER\":\n",
    "        order_levels.append(int(obj[\"level\"]))\n",
    "\n",
    "# Calculate the sum of levels for players in \"CHAOS\" team\n",
    "chaos_levels = []\n",
    "for obj in data:\n",
    "    if obj.get(\"team\") == \"CHAOS\":\n",
    "        chaos_levels.append(int(obj[\"level\"]))\n",
    "\n",
    "# Calculate the average levels for each team\n",
    "order_average = sum(order_levels) / len(order_levels)\n",
    "chaos_average = sum(chaos_levels) / len(chaos_levels)\n",
    "\n",
    "# Print the averages\n",
    "print(f\"Average of levels for players in the 'ORDER' team: {order_average}\")\n",
    "print(f\"Average of levels for players in the 'CHAOS' team: {chaos_average}\")\n"
   ]
  },
  {
   "cell_type": "code",
   "execution_count": 54,
   "id": "10d42a08-bb0c-4033-8761-107bc2e839ba",
   "metadata": {},
   "outputs": [
    {
     "name": "stdout",
     "output_type": "stream",
     "text": [
      "Sum of scores for players in 'ORDER' team:\n",
      "{'assists': 22, 'creepScore': 530, 'deaths': 27, 'kills': 18, 'wardScore': 66.50740575790405}\n",
      "Sum of scores for players in 'CHAOS' team:\n",
      "{'assists': 39, 'creepScore': 650, 'deaths': 18, 'kills': 27, 'wardScore': 70.77440881729126}\n"
     ]
    }
   ],
   "source": [
    "import requests\n",
    "\n",
    "playerlistURL = \"https://127.0.0.1:2999/liveclientdata/playerlist\"\n",
    "response = requests.get(playerlistURL, verify=False)\n",
    "data = response.json()\n",
    "\n",
    "# Calculate the sum of scores for players in \"ORDER\" team\n",
    "order_scores = {}\n",
    "for key in data[0][\"scores\"]:\n",
    "    order_scores[key] = sum(obj[\"scores\"][key] for obj in data if obj.get(\"team\") == \"ORDER\")\n",
    "\n",
    "# Calculate the sum of scores for players in \"CHAOS\" team\n",
    "chaos_scores = {}\n",
    "for key in data[0][\"scores\"]:\n",
    "    chaos_scores[key] = sum(obj[\"scores\"][key] for obj in data if obj.get(\"team\") == \"CHAOS\")\n",
    "\n",
    "# Print the sums\n",
    "print(\"Sum of scores for players in 'ORDER' team:\")\n",
    "print(order_scores)\n",
    "print(\"Sum of scores for players in 'CHAOS' team:\")\n",
    "print(chaos_scores)\n"
   ]
  },
  {
   "cell_type": "code",
   "execution_count": 46,
   "id": "c398bb04-84a6-44c7-900d-a3a91d9fdc87",
   "metadata": {},
   "outputs": [
    {
     "data": {
      "text/plain": [
       "11.8"
      ]
     },
     "execution_count": 46,
     "metadata": {},
     "output_type": "execute_result"
    }
   ],
   "source": [
    "first_five"
   ]
  },
  {
   "cell_type": "code",
   "execution_count": 47,
   "id": "8569a771-c1ee-4ff1-852f-4d69210a6903",
   "metadata": {},
   "outputs": [
    {
     "data": {
      "text/plain": [
       "13.4"
      ]
     },
     "execution_count": 47,
     "metadata": {},
     "output_type": "execute_result"
    }
   ],
   "source": [
    "last_five"
   ]
  },
  {
   "cell_type": "code",
   "execution_count": 55,
   "id": "db37bc92-92b0-44de-9d78-e89894a057bd",
   "metadata": {},
   "outputs": [],
   "source": [
    "team_1 = {\"Gold\": 0, \"Level\": 0, \"Minions\": 0, \"Jungle_minions\": 0, \"Kills\": 0, \"Assists\": 0, \"Deaths\": 0, \"Plates\": 0, \"Towers\": 0, \"Dragons\": 0, \"Heralds\": 0, \"Sight_wards\": 0, \"Control_wards\": 0}"
   ]
  },
  {
   "cell_type": "code",
   "execution_count": 61,
   "id": "27abf223-93c6-4b31-ac40-f4199e9468bd",
   "metadata": {},
   "outputs": [],
   "source": [
    "team_1[\"Level\"]=first_five\n",
    "team_1[\"Minions\"]=order_scores[\"creepScore\"]\n",
    "team_1[\"Kills\"]=order_scores[\"kills\"]\n",
    "team_1[\"Assists\"]=order_scores[\"assists\"]\n",
    "team_1[\"Deaths\"]=order_scores[\"deaths\"]"
   ]
  },
  {
   "cell_type": "code",
   "execution_count": 62,
   "id": "66b816ee-3c08-4bdf-9989-41e6c7733c9f",
   "metadata": {},
   "outputs": [
    {
     "data": {
      "text/plain": [
       "{'Gold': 0,\n",
       " 'Level': 11.8,\n",
       " 'Minions': 530,\n",
       " 'Jungle_minions': 0,\n",
       " 'Kills': 18,\n",
       " 'Assists': 22,\n",
       " 'Deaths': 27,\n",
       " 'Plates': 0,\n",
       " 'Towers': 0,\n",
       " 'Dragons': 0,\n",
       " 'Heralds': 0,\n",
       " 'Sight_wards': 0,\n",
       " 'Control_wards': 0}"
      ]
     },
     "execution_count": 62,
     "metadata": {},
     "output_type": "execute_result"
    }
   ],
   "source": [
    "team_1"
   ]
  },
  {
   "cell_type": "code",
   "execution_count": null,
   "id": "23362d11-9458-44f8-997a-46f1a5cd5e02",
   "metadata": {},
   "outputs": [],
   "source": []
  },
  {
   "cell_type": "code",
   "execution_count": null,
   "id": "cf80aa72-060e-4922-837c-a8ad416452a8",
   "metadata": {},
   "outputs": [],
   "source": []
  },
  {
   "cell_type": "code",
   "execution_count": null,
   "id": "7fa738d2-6b6a-4563-8801-65a4c7dc8827",
   "metadata": {},
   "outputs": [],
   "source": []
  },
  {
   "cell_type": "code",
   "execution_count": 77,
   "id": "07ee3e2f-a7d5-4363-a0b2-f4152d5822cc",
   "metadata": {},
   "outputs": [
    {
     "name": "stdout",
     "output_type": "stream",
     "text": [
      "Team 1 Items:\n",
      "[\"Doran's Shield\", 'Health Potion', 'Stealth Ward', 'Scorchclaw Pup', 'Oracle Lens', \"Doran's Ring\", 'Health Potion', 'Stealth Ward', \"Doran's Blade\", 'Stealth Ward', 'Minion Dematerializer', 'Relic Shield', 'Health Potion', 'Stealth Ward']\n",
      "Team 2 Items:\n",
      "[\"Doran's Blade\", 'Stealth Ward', 'Mosstomper Seedling', 'Oracle Lens', 'Health Potion', \"Doran's Blade\", 'Stealth Ward', \"Doran's Blade\", 'Health Potion', 'Stealth Ward', 'Relic Shield', 'Stealth Ward']\n"
     ]
    }
   ],
   "source": [
    "import requests\n",
    "\n",
    "def collect_items_by_team(json_data):\n",
    "    team1_items = []\n",
    "    team2_items = []\n",
    "\n",
    "    for player in json_data:\n",
    "        team = player[\"team\"]\n",
    "        items = player[\"items\"]\n",
    "\n",
    "        if team == \"ORDER\":\n",
    "            team1_items.extend(item[\"displayName\"] for item in items)\n",
    "        elif team == \"CHAOS\":\n",
    "            team2_items.extend(item[\"displayName\"] for item in items)\n",
    "\n",
    "    return team1_items, team2_items\n",
    "\n",
    "\n",
    "# Disable SSL certificate verification\n",
    "requests.packages.urllib3.disable_warnings()\n",
    "\n",
    "# Fetch JSON data from the URL\n",
    "url = \"https://127.0.0.1:2999/liveclientdata/playerlist\"\n",
    "response = requests.get(url, verify=False)\n",
    "\n",
    "# Check if the request was successful\n",
    "if response.status_code == 200:\n",
    "    json_data = response.json()\n",
    "    team1_items, team2_items = collect_items_by_team(json_data)\n",
    "    print(\"Team 1 Items:\")\n",
    "    print(team1_items)\n",
    "    print(\"Team 2 Items:\")\n",
    "    print(team2_items)\n",
    "else:\n",
    "    print(\"Failed to fetch JSON data. Status code:\", response.status_code)\n"
   ]
  },
  {
   "cell_type": "code",
   "execution_count": null,
   "id": "9494398a-2e46-47f2-afa1-4be2cd73f1a8",
   "metadata": {},
   "outputs": [],
   "source": []
  },
  {
   "cell_type": "code",
   "execution_count": null,
   "id": "e9d1451a-469b-4ad7-9f8f-2043c3fcb449",
   "metadata": {},
   "outputs": [],
   "source": []
  },
  {
   "cell_type": "code",
   "execution_count": null,
   "id": "7b4311a4-e1b9-4c9e-a964-1ac790c3390f",
   "metadata": {},
   "outputs": [],
   "source": []
  }
 ],
 "metadata": {
  "kernelspec": {
   "display_name": "Python 3 (ipykernel)",
   "language": "python",
   "name": "python3"
  },
  "language_info": {
   "codemirror_mode": {
    "name": "ipython",
    "version": 3
   },
   "file_extension": ".py",
   "mimetype": "text/x-python",
   "name": "python",
   "nbconvert_exporter": "python",
   "pygments_lexer": "ipython3",
   "version": "3.8.6"
  }
 },
 "nbformat": 4,
 "nbformat_minor": 5
}
