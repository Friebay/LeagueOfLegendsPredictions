{
 "cells": [
  {
   "cell_type": "code",
   "execution_count": 31,
   "id": "08dcaa84-1f9a-4efb-a09a-244d5dd7abf2",
   "metadata": {},
   "outputs": [
    {
     "name": "stdout",
     "output_type": "stream",
     "text": [
      "Game Time: 12 minutes 20.45635986328125 seconds\n"
     ]
    }
   ],
   "source": [
    "import json\n",
    "import requests\n",
    "import time\n",
    "\n",
    "# Disable SSL certificate verification\n",
    "requests.packages.urllib3.disable_warnings()\n",
    "\n",
    "# Fetch the JSON data from the URL without SSL verification\n",
    "url = \"https://127.0.0.1:2999/liveclientdata/gamestats\"\n",
    "\n",
    "# Make the request and retrieve the data\n",
    "response = requests.get(url, verify=False)\n",
    "data = response.json()\n",
    "\n",
    "# Extract the gameTime value\n",
    "game_time_seconds = data[\"gameTime\"]\n",
    "\n",
    "# Convert game_time to minutes and seconds\n",
    "minutes = game_time_seconds // 60\n",
    "seconds = game_time_seconds % 60\n",
    "\n",
    "# Format minutes and seconds without decimal places\n",
    "formatted_minutes = \"{:.0f}\".format(minutes)\n",
    "formatted_seconds = \"{:.0f}\".format(seconds)\n",
    "\n",
    "# Print the converted time\n",
    "print(\"Game Time: {} minutes {} seconds\".format(formatted_minutes, seconds))\n"
   ]
  },
  {
   "cell_type": "code",
   "execution_count": 46,
   "id": "e9993a38-99ae-4d5a-8a3b-cce1012db2cb",
   "metadata": {},
   "outputs": [
    {
     "name": "stdout",
     "output_type": "stream",
     "text": [
      "Average of levels for players in the 'ORDER' team: 18.0\n",
      "Players in the 'ORDER' team: Kribadubadara\n",
      "Average of levels for players in the 'CHAOS' team: 14.4\n",
      "Players in the 'CHAOS' team: Kayle Bot, Target Dummy, Target Dummy, Target Dummy, Target Dummy\n"
     ]
    }
   ],
   "source": [
    "import requests\n",
    "\n",
    "playerlistURL = \"https://127.0.0.1:2999/liveclientdata/playerlist\"\n",
    "response = requests.get(playerlistURL, verify=False)\n",
    "data = response.json()\n",
    "\n",
    "# Calculate the sum of levels and save player names for players in \"ORDER\" team\n",
    "order_levels = []\n",
    "order_players = []\n",
    "for obj in data:\n",
    "    if obj.get(\"team\") == \"ORDER\":\n",
    "        order_levels.append(int(obj[\"level\"]))\n",
    "        order_players.append(obj[\"summonerName\"])\n",
    "\n",
    "# Calculate the sum of levels and save player names for players in \"CHAOS\" team\n",
    "chaos_levels = []\n",
    "chaos_players = []\n",
    "for obj in data:\n",
    "    if obj.get(\"team\") == \"CHAOS\":\n",
    "        chaos_levels.append(int(obj[\"level\"]))\n",
    "        chaos_players.append(obj[\"summonerName\"])\n",
    "\n",
    "# Calculate the average levels for each team\n",
    "order_average = sum(order_levels) / len(order_levels)\n",
    "chaos_average = sum(chaos_levels) / len(chaos_levels)\n",
    "\n",
    "# Print the averages\n",
    "print(f\"Average of levels for players in the 'ORDER' team: {order_average}\")\n",
    "print(f\"Players in the 'ORDER' team: {', '.join(order_players)}\")\n",
    "print(f\"Average of levels for players in the 'CHAOS' team: {chaos_average}\")\n",
    "print(f\"Players in the 'CHAOS' team: {', '.join(chaos_players)}\")\n"
   ]
  },
  {
   "cell_type": "code",
   "execution_count": 47,
   "id": "10d42a08-bb0c-4033-8761-107bc2e839ba",
   "metadata": {},
   "outputs": [
    {
     "name": "stdout",
     "output_type": "stream",
     "text": [
      "Sum of scores for players in 'ORDER' team:\n",
      "{'assists': 0, 'creepScore': 170, 'deaths': 1, 'kills': 3, 'wardScore': 2.7794837951660156}\n",
      "Sum of scores for players in 'CHAOS' team:\n",
      "{'assists': 0, 'creepScore': 110, 'deaths': 3, 'kills': 0, 'wardScore': 0.0}\n"
     ]
    }
   ],
   "source": [
    "import requests\n",
    "\n",
    "playerlistURL = \"https://127.0.0.1:2999/liveclientdata/playerlist\"\n",
    "response = requests.get(playerlistURL, verify=False)\n",
    "data = response.json()\n",
    "\n",
    "# Calculate the sum of scores for players in \"ORDER\" team\n",
    "order_scores = {}\n",
    "for key in data[0][\"scores\"]:\n",
    "    order_scores[key] = sum(obj[\"scores\"][key] for obj in data if obj.get(\"team\") == \"ORDER\")\n",
    "\n",
    "# Calculate the sum of scores for players in \"CHAOS\" team\n",
    "chaos_scores = {}\n",
    "for key in data[0][\"scores\"]:\n",
    "    chaos_scores[key] = sum(obj[\"scores\"][key] for obj in data if obj.get(\"team\") == \"CHAOS\")\n",
    "\n",
    "# Print the sums\n",
    "print(\"Sum of scores for players in 'ORDER' team:\")\n",
    "print(order_scores)\n",
    "print(\"Sum of scores for players in 'CHAOS' team:\")\n",
    "print(chaos_scores)\n"
   ]
  },
  {
   "cell_type": "code",
   "execution_count": 48,
   "id": "07ee3e2f-a7d5-4363-a0b2-f4152d5822cc",
   "metadata": {},
   "outputs": [
    {
     "name": "stdout",
     "output_type": "stream",
     "text": [
      "Team 1 Items:\n",
      "[6672, 3031, 3085, 3046, 3094, 3095, 3340]\n",
      "Team 2 Items:\n",
      "[1083, 3124, 3006, 6672, 1042, 2003, 3340]\n"
     ]
    }
   ],
   "source": [
    "import requests\n",
    "\n",
    "def collect_items_by_team(json_data):\n",
    "    team1_items = []\n",
    "    team2_items = []\n",
    "\n",
    "    for player in json_data:\n",
    "        team = player[\"team\"]\n",
    "        items = player[\"items\"]\n",
    "\n",
    "        if team == \"ORDER\":\n",
    "            team1_items.extend(item[\"itemID\"] for item in items)\n",
    "        elif team == \"CHAOS\":\n",
    "            team2_items.extend(item[\"itemID\"] for item in items)\n",
    "\n",
    "    return team1_items, team2_items\n",
    "\n",
    "\n",
    "# Disable SSL certificate verification\n",
    "requests.packages.urllib3.disable_warnings()\n",
    "\n",
    "# Fetch JSON data from the URL\n",
    "url = \"https://127.0.0.1:2999/liveclientdata/playerlist\"\n",
    "response = requests.get(url, verify=False)\n",
    "\n",
    "# Check if the request was successful\n",
    "if response.status_code == 200:\n",
    "    json_data = response.json()\n",
    "    team1_items, team2_items = collect_items_by_team(json_data)\n",
    "    print(\"Team 1 Items:\")\n",
    "    print(team1_items)\n",
    "    print(\"Team 2 Items:\")\n",
    "    print(team2_items)\n",
    "else:\n",
    "    print(\"Failed to fetch JSON data. Status code:\", response.status_code)\n"
   ]
  },
  {
   "cell_type": "code",
   "execution_count": 49,
   "id": "670d58ea-6d03-4cae-a69a-46bfdf42b244",
   "metadata": {},
   "outputs": [
    {
     "name": "stdout",
     "output_type": "stream",
     "text": [
      "Total item price for team 1: 18000 gold.\n",
      "Total item price for team 2: 8100 gold.\n"
     ]
    }
   ],
   "source": [
    "import requests\n",
    "import json\n",
    "\n",
    "# Static URL for the items.json data\n",
    "json_url = \"https://cdn.merakianalytics.com/riot/lol/resources/latest/en-US/items.json\"\n",
    "\n",
    "def get_item_price(item_id):\n",
    "    try:\n",
    "        response = requests.get(json_url)\n",
    "        data = json.loads(response.text)\n",
    "\n",
    "        item_data = data[str(item_id)]\n",
    "        total_price = item_data[\"shop\"][\"prices\"][\"total\"]\n",
    "        return total_price\n",
    "\n",
    "    except (requests.RequestException, json.JSONDecodeError, KeyError):\n",
    "        return None\n",
    "\n",
    "def calculate_total_item_price(item_ids):\n",
    "    total_price = 0\n",
    "    for item_id in item_ids:\n",
    "        price = get_item_price(item_id)\n",
    "        if price is not None:\n",
    "            total_price += price\n",
    "    return total_price\n",
    "\n",
    "# Calculate total item price for team 1\n",
    "team1_total_price = calculate_total_item_price(team1_items)\n",
    "\n",
    "# Calculate total item price for team 2\n",
    "team2_total_price = calculate_total_item_price(team2_items)\n",
    "\n",
    "# Print the results\n",
    "print(f\"Total item price for team 1: {team1_total_price} gold.\")\n",
    "print(f\"Total item price for team 2: {team2_total_price} gold.\")"
   ]
  },
  {
   "cell_type": "code",
   "execution_count": 50,
   "id": "b87b8d27-14c9-4454-9a7e-4e024ca3a3f4",
   "metadata": {},
   "outputs": [
    {
     "name": "stdout",
     "output_type": "stream",
     "text": [
      "Team Order:\n",
      "Dragon kills: 1\n",
      "Herald kills: 1\n",
      "\n",
      "Team Chaos:\n",
      "Dragon kills: 0\n",
      "Herald kills: 0\n"
     ]
    }
   ],
   "source": [
    "import requests\n",
    "import json\n",
    "\n",
    "url = \"https://127.0.0.1:2999/liveclientdata/eventdata\"\n",
    "\n",
    "# Make the HTTP GET request\n",
    "response = requests.get(url, verify=False)  # Set verify to False if using self-signed certificate\n",
    "\n",
    "# Check if the request was successful (status code 200)\n",
    "if response.status_code == 200:\n",
    "    # Parse the JSON data\n",
    "    data = response.json()\n",
    "\n",
    "    # Initialize counters\n",
    "    team_order_dragon_kills = 0\n",
    "    team_order_herald_kills = 0\n",
    "    team_chaos_dragon_kills = 0\n",
    "    team_chaos_herald_kills = 0\n",
    "\n",
    "    # Iterate over the events\n",
    "    for event in data[\"Events\"]:\n",
    "        event_name = event.get(\"EventName\", \"\")\n",
    "\n",
    "        if event_name == \"DragonKill\":\n",
    "            killer_name = event.get(\"KillerName\", \"\")\n",
    "\n",
    "            if killer_name in order_players:\n",
    "                team_order_dragon_kills += 1\n",
    "            else:\n",
    "                team_chaos_dragon_kills += 1\n",
    "                \n",
    "\n",
    "        elif event_name == \"HeraldKill\":\n",
    "            killer_name = event.get(\"KillerName\", \"\")\n",
    "\n",
    "            if killer_name in order_players:\n",
    "                team_order_herald_kills += 1\n",
    "            else:\n",
    "                team_chaos_herald_kills += 1\n",
    "\n",
    "    # Print the results\n",
    "    print(\"Team Order:\")\n",
    "    print(\"Dragon kills:\", team_order_dragon_kills)\n",
    "    print(\"Herald kills:\", team_order_herald_kills)\n",
    "    print()\n",
    "    print(\"Team Chaos:\")\n",
    "    print(\"Dragon kills:\", team_chaos_dragon_kills)\n",
    "    print(\"Herald kills:\", team_chaos_herald_kills)\n",
    "else:\n",
    "    # If the request was not successful, print the error message\n",
    "    print(\"Error:\", response.status_code, response.reason)\n"
   ]
  },
  {
   "cell_type": "code",
   "execution_count": 51,
   "id": "41671166-b9a2-4bf0-9b6d-3bafbf22080e",
   "metadata": {},
   "outputs": [
    {
     "name": "stdout",
     "output_type": "stream",
     "text": [
      "Team Order:\n",
      "Turret kills: 4\n",
      "\n",
      "Team Chaos:\n",
      "Turret kills: 11\n"
     ]
    }
   ],
   "source": [
    "import requests\n",
    "import json\n",
    "\n",
    "order_turrets = ['Turret_T1_L_03_A', 'Turret_T1_L_02_A', 'Turret_T1_C_06_A', 'Turret_T1_C_01_A',  'Turret_T1_C_05_A',  'Turret_T1_C_04_A', 'Turret_T1_C_03_A', 'Turret_T1_R_03_A', 'Turret_T1_R_03_A', 'Turret_T1_R_02_A', 'Turret_T1_C_07_A', 'Turret_T1_C_02_A']\n",
    "\n",
    "url = \"https://127.0.0.1:2999/liveclientdata/eventdata\"\n",
    "\n",
    "# Make the HTTP GET request\n",
    "response = requests.get(url, verify=False)  # Set verify to False if using self-signed certificate\n",
    "\n",
    "# Check if the request was successful (status code 200)\n",
    "if response.status_code == 200:\n",
    "    # Parse the JSON data\n",
    "    data = response.json()\n",
    "\n",
    "    # Initialize counters\n",
    "    team_order_turrets = 0\n",
    "    team_chaos_turrets = 0\n",
    "\n",
    "    # Iterate over the events\n",
    "    for event in data[\"Events\"]:\n",
    "        event_name = event.get(\"EventName\", \"\")\n",
    "\n",
    "        if event_name == \"TurretKilled\":\n",
    "            turret_killed_name = event.get(\"TurretKilled\", \"\")\n",
    "\n",
    "            if turret_killed_name in order_turrets:\n",
    "                team_chaos_turrets += 1\n",
    "            else:\n",
    "                team_order_turrets += 1\n",
    "                \n",
    "    # Print the results\n",
    "    print(\"Team Order:\")\n",
    "    print(\"Turret kills:\", team_order_turrets)\n",
    "    print()\n",
    "    print(\"Team Chaos:\")\n",
    "    print(\"Turret kills:\", team_chaos_turrets)\n",
    "else:\n",
    "    # If the request was not successful, print the error message\n",
    "    print(\"Error:\", response.status_code, response.reason)\n"
   ]
  },
  {
   "cell_type": "code",
   "execution_count": 52,
   "id": "119ff383-11cd-4554-a2a6-9fccf7a31b98",
   "metadata": {},
   "outputs": [],
   "source": [
    "team_1 = {\"Gold\": 0, \"Level\": 0, \"Minions\": 0, \"Kills\": 0, \"Assists\": 0, \"Deaths\": 0, \"Towers\": 0, \"Dragons\": 0, \"Heralds\": 0, \"Gold_diff\": 0}"
   ]
  },
  {
   "cell_type": "code",
   "execution_count": 53,
   "id": "8d329ad5-4f7e-421b-92eb-625063098ff3",
   "metadata": {},
   "outputs": [],
   "source": [
    "team_1[\"Level\"]=order_average\n",
    "team_1[\"Minions\"]=order_scores[\"creepScore\"]\n",
    "team_1[\"Kills\"]=order_scores[\"kills\"]\n",
    "team_1[\"Assists\"]=order_scores[\"assists\"]\n",
    "team_1[\"Deaths\"]=order_scores[\"deaths\"]\n",
    "team_1[\"Gold\"]=team1_total_price\n",
    "team_1[\"Gold_diff\"]=team1_total_price-team2_total_price\n",
    "team_1[\"Dragons\"]=team_order_dragon_kills\n",
    "team_1[\"Heralds\"]=team_order_herald_kills\n",
    "team_1[\"Towers\"]=team_order_turrets"
   ]
  },
  {
   "cell_type": "code",
   "execution_count": 54,
   "id": "5217917f-390e-4583-bfd6-628ff7ef0a49",
   "metadata": {},
   "outputs": [
    {
     "data": {
      "text/plain": [
       "{'Gold': 18000,\n",
       " 'Level': 18.0,\n",
       " 'Minions': 170,\n",
       " 'Kills': 3,\n",
       " 'Assists': 0,\n",
       " 'Deaths': 1,\n",
       " 'Towers': 4,\n",
       " 'Dragons': 1,\n",
       " 'Heralds': 1,\n",
       " 'Gold_diff': 9900}"
      ]
     },
     "execution_count": 54,
     "metadata": {},
     "output_type": "execute_result"
    }
   ],
   "source": [
    "team_1"
   ]
  },
  {
   "cell_type": "code",
   "execution_count": 56,
   "id": "6d749d73-fbbf-4b2d-b49d-7e1208b648ab",
   "metadata": {},
   "outputs": [],
   "source": [
    "team_2 = {\"Gold\": 0, \"Level\": 0, \"Minions\": 0, \"Kills\": 0, \"Assists\": 0, \"Deaths\": 0, \"Towers\": 0, \"Dragons\": 0, \"Heralds\": 0, \"Gold_diff\": 0}"
   ]
  },
  {
   "cell_type": "code",
   "execution_count": 57,
   "id": "d242bade-ce59-44a8-b58c-0c78791791f6",
   "metadata": {},
   "outputs": [],
   "source": [
    "team_2[\"Level\"]=chaos_average\n",
    "team_2[\"Minions\"]=chaos_scores[\"creepScore\"]\n",
    "team_2[\"Kills\"]=chaos_scores[\"kills\"]\n",
    "team_2[\"Assists\"]=chaos_scores[\"assists\"]\n",
    "team_2[\"Deaths\"]=chaos_scores[\"deaths\"]\n",
    "team_2[\"Gold\"]=team2_total_price\n",
    "team_2[\"Gold_diff\"]=team2_total_price-team1_total_price\n",
    "team_2[\"Dragons\"]=team_chaos_dragon_kills\n",
    "team_2[\"Heralds\"]=team_chaos_herald_kills\n",
    "team_2[\"Towers\"]=team_chaos_turrets"
   ]
  },
  {
   "cell_type": "code",
   "execution_count": 58,
   "id": "81f48582-505f-478c-9bea-deadac157ecb",
   "metadata": {},
   "outputs": [
    {
     "data": {
      "text/plain": [
       "{'Gold': 8100,\n",
       " 'Level': 14.4,\n",
       " 'Minions': 110,\n",
       " 'Kills': 0,\n",
       " 'Assists': 0,\n",
       " 'Deaths': 3,\n",
       " 'Towers': 11,\n",
       " 'Dragons': 0,\n",
       " 'Heralds': 0,\n",
       " 'Gold_diff': -9900}"
      ]
     },
     "execution_count": 58,
     "metadata": {},
     "output_type": "execute_result"
    }
   ],
   "source": [
    "team_2"
   ]
  },
  {
   "cell_type": "code",
   "execution_count": null,
   "id": "d73057b2-1143-48f4-bd16-06973b682a4e",
   "metadata": {},
   "outputs": [],
   "source": []
  }
 ],
 "metadata": {
  "kernelspec": {
   "display_name": "Python 3 (ipykernel)",
   "language": "python",
   "name": "python3"
  },
  "language_info": {
   "codemirror_mode": {
    "name": "ipython",
    "version": 3
   },
   "file_extension": ".py",
   "mimetype": "text/x-python",
   "name": "python",
   "nbconvert_exporter": "python",
   "pygments_lexer": "ipython3",
   "version": "3.8.6"
  }
 },
 "nbformat": 4,
 "nbformat_minor": 5
}
